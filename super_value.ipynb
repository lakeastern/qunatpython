{
 "cells": [
  {
   "cell_type": "code",
   "execution_count": null,
   "metadata": {},
   "outputs": [],
   "source": [
    "import requests\n",
    "import pandas as pd\n",
    "import python_quant_super_value as pq\n",
    "import time\n",
    "import bs4\n",
    "import numpy as np\n",
    "import urllib.parse\n",
    "import pandas as pd\n",
    "import matplotlib.pyplot as plt\n",
    "import numpy"
   ]
  },
  {
   "cell_type": "code",
   "execution_count": null,
   "metadata": {
    "scrolled": true
   },
   "outputs": [],
   "source": [
    "import imp\n",
    "import python_quant_super_value\n",
    "imp.reload(python_quant_super_value)"
   ]
  },
  {
   "cell_type": "markdown",
   "metadata": {},
   "source": [
    "## 전 종목 코드 구해 오기 (Python)"
   ]
  },
  {
   "cell_type": "markdown",
   "metadata": {},
   "source": [
    "[참조] 파이썬으로 전 종목 코드 구하는 방법\n",
    "https://minjejeon.github.io/learningstock/2017/09/07/download-krx-ticker-symbols-at-once.html"
   ]
  },
  {
   "cell_type": "code",
   "execution_count": null,
   "metadata": {},
   "outputs": [],
   "source": [
    "kospi = pq.download_stock_codes('kospi')\n",
    "kosdaq = pq.download_stock_codes('kosdaq')\n",
    "#konex = pq.download_stock_codes('konex')\n",
    "code_data = pd.concat([kospi, kosdaq])[['종목코드','회사명']]\n",
    "#code_data = pd.concat([kospi, kosdaq, konex])[['종목코드','회사명']]\n",
    "code_data.columns = ['종목코드','기업명']\n",
    "code_data['종목코드'] = 'A' + code_data['종목코드']\n",
    "code_data = code_data.set_index(code_data.columns[0])\n",
    "\n",
    "# code_data.to_csv('code_data.csv', encoding='cp949', index = False)\n",
    "# code_data2 = pd.read_csv('code_data.csv', encoding='cp949')\n",
    "# code_data2"
   ]
  },
  {
   "cell_type": "code",
   "execution_count": null,
   "metadata": {},
   "outputs": [],
   "source": [
    "code_data.shape"
   ]
  },
  {
   "cell_type": "code",
   "execution_count": null,
   "metadata": {},
   "outputs": [],
   "source": [
    "code_data.head(10)"
   ]
  },
  {
   "cell_type": "markdown",
   "metadata": {},
   "source": [
    "## code test"
   ]
  },
  {
   "cell_type": "code",
   "execution_count": null,
   "metadata": {},
   "outputs": [],
   "source": [
    "pq.make_cap_dataframe(\"A005720\")"
   ]
  },
  {
   "cell_type": "code",
   "execution_count": null,
   "metadata": {
    "scrolled": true
   },
   "outputs": [],
   "source": [
    "pq.make_fs_dataframe('A294140') "
   ]
  },
  {
   "cell_type": "code",
   "execution_count": null,
   "metadata": {},
   "outputs": [],
   "source": [
    "pq.make_fhd_dataframe('A353200')"
   ]
  },
  {
   "cell_type": "code",
   "execution_count": null,
   "metadata": {},
   "outputs": [],
   "source": []
  },
  {
   "cell_type": "code",
   "execution_count": null,
   "metadata": {},
   "outputs": [],
   "source": []
  },
  {
   "cell_type": "markdown",
   "metadata": {},
   "source": [
    "## fnguide 데이터 수집하기"
   ]
  },
  {
   "cell_type": "code",
   "execution_count": null,
   "metadata": {
    "scrolled": true
   },
   "outputs": [],
   "source": [
    "# [코드 3.27/29/31] 모든 종목에 대해서 재무제표, 재무비율, 투자지표 데이터 가져오기 (CH3. 데이터 수집하기.ipynb)\n",
    "\n",
    "for num, code in enumerate(code_data.index):\n",
    "    try:\n",
    "        print(num, code)\n",
    "        time.sleep(1)        \n",
    "        try:\n",
    "            cap = pq.make_cap_dataframe(code)\n",
    "            fs_df = pq.make_fs_dataframe(code)\n",
    "            fhd_df = pq.make_fhd_dataframe(code)\n",
    "        except requests.exceptions.Timeout:\n",
    "            time.sleep(60)\n",
    "            cap = pq.make_cap_dataframe(code)\n",
    "            fs_df = pq.make_fs_dataframe(code)\n",
    "            fhd_df = pq.make_fhd_dataframe(code)\n",
    "        except ValueError:\n",
    "            continue\n",
    "        except KeyError:\n",
    "            continue\n",
    "        except UnboundLocalError:\n",
    "            continue\n",
    "\n",
    "        value = pd.merge(cap, fs_df, how='outer', right_index=True, left_index=True)\n",
    "        value = pd.merge(value, fhd_df, how='outer', right_index=True, left_index=True)\n",
    "        value['1/PSR'] = float(value['매출액'][0]) / float(value['시가총액'][0])\n",
    "        value['1/PER'] = float(value['순이익'][0]) / float(value['시가총액'][0])\n",
    "        value['1/PBR'] = float(value['자본'][0]) / float(value['시가총액'][0])\n",
    "        value['1/PCR'] = float(value['영업현금흐름'][0]) / float(value['시가총액'][0])\n",
    "        value = pd.merge(code_data.loc[[code]], value, how='outer', right_index=True, left_index=True)\n",
    "        if num == 0 :\n",
    "            total_value = value\n",
    "        else:\n",
    "            total_value = pd.concat([total_value, value])\n",
    "\n",
    "    except ValueError:\n",
    "        continue\n",
    "    except KeyError:\n",
    "        continue\n",
    "    except UnboundLocalError:\n",
    "        continue\n"
   ]
  },
  {
   "cell_type": "code",
   "execution_count": null,
   "metadata": {},
   "outputs": [],
   "source": [
    "total_value"
   ]
  },
  {
   "cell_type": "code",
   "execution_count": null,
   "metadata": {},
   "outputs": [],
   "source": [
    "total_value['적정가'] = round((total_value['BPS'].astype('float')*(1+total_value['ROE3년']*0.01-0.05*((100+total_value['부채비율3년'])/100)**0.5)**10).astype(float), -1)"
   ]
  },
  {
   "cell_type": "code",
   "execution_count": null,
   "metadata": {},
   "outputs": [],
   "source": [
    "'data\\total_value_{}.xlsx'.format(day.strftime(\"%y%m%d\"))"
   ]
  },
  {
   "cell_type": "code",
   "execution_count": null,
   "metadata": {},
   "outputs": [],
   "source": [
    "day.strftime(\"%y%m%d\")"
   ]
  },
  {
   "cell_type": "code",
   "execution_count": null,
   "metadata": {
    "scrolled": true
   },
   "outputs": [],
   "source": [
    "total_value.to_excel(r'data\\total_value_{}.xlsx'.format(day.strftime(\"%y%m%d\")))\n",
    "total_value.shape[0]"
   ]
  },
  {
   "cell_type": "code",
   "execution_count": null,
   "metadata": {},
   "outputs": [],
   "source": [
    "total_value"
   ]
  },
  {
   "cell_type": "markdown",
   "metadata": {},
   "source": [
    "## super value 전략 구현하기"
   ]
  },
  {
   "cell_type": "code",
   "execution_count": null,
   "metadata": {
    "scrolled": true
   },
   "outputs": [],
   "source": [
    "fs_path = r'data\\total_value_{}.xlsx'.format(day.strftime(\"%y%m%d\"))\n",
    "value_df = pd.read_excel(fs_path)\n",
    "sorted_cap_value = pq.get_small_cap(value_df, ratio=[0.8,1.0])\n",
    "value_list = ['1/PSR','1/PER','1/PBR','1/PCR']\n",
    "value_combo = pq.value_combo(sorted_cap_value, value_list, 55)\n",
    "value_combo\n"
   ]
  },
  {
   "cell_type": "code",
   "execution_count": null,
   "metadata": {},
   "outputs": [],
   "source": [
    "value_combo.to_excel(r'data\\value_combo_{}.xlsx'.format(day.strftime(\"%y%m%d\")))"
   ]
  },
  {
   "cell_type": "code",
   "execution_count": null,
   "metadata": {},
   "outputs": [],
   "source": []
  }
 ],
 "metadata": {
  "kernelspec": {
   "display_name": "Python 3",
   "language": "python",
   "name": "python3"
  },
  "language_info": {
   "codemirror_mode": {
    "name": "ipython",
    "version": 3
   },
   "file_extension": ".py",
   "mimetype": "text/x-python",
   "name": "python",
   "nbconvert_exporter": "python",
   "pygments_lexer": "ipython3",
   "version": "3.7.1"
  },
  "varInspector": {
   "cols": {
    "lenName": 16,
    "lenType": 16,
    "lenVar": 40
   },
   "kernels_config": {
    "python": {
     "delete_cmd_postfix": "",
     "delete_cmd_prefix": "del ",
     "library": "var_list.py",
     "varRefreshCmd": "print(var_dic_list())"
    },
    "r": {
     "delete_cmd_postfix": ") ",
     "delete_cmd_prefix": "rm(",
     "library": "var_list.r",
     "varRefreshCmd": "cat(var_dic_list()) "
    }
   },
   "types_to_exclude": [
    "module",
    "function",
    "builtin_function_or_method",
    "instance",
    "_Feature"
   ],
   "window_display": false
  }
 },
 "nbformat": 4,
 "nbformat_minor": 2
}
