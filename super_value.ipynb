{
 "cells": [
  {
   "cell_type": "code",
   "execution_count": null,
   "metadata": {},
   "outputs": [],
   "source": [
    "# https://yobro.tistory.com/142"
   ]
  },
  {
   "cell_type": "code",
   "execution_count": null,
   "metadata": {},
   "outputs": [],
   "source": [
    "import requests\n",
    "import pandas as pd\n",
    "import python_quant_super_value as pq\n",
    "import time\n",
    "import bs4\n",
    "import numpy as np\n",
    "import urllib.parse\n",
    "import pandas as pd\n",
    "import matplotlib.pyplot as plt\n",
    "import numpy\n",
    "from pykrx import stock\n",
    "from datetime import datetime"
   ]
  },
  {
   "cell_type": "code",
   "execution_count": null,
   "metadata": {
    "scrolled": true
   },
   "outputs": [],
   "source": [
    "import imp\n",
    "import python_quant_super_value\n",
    "imp.reload(python_quant_super_value)"
   ]
  },
  {
   "cell_type": "markdown",
   "metadata": {},
   "source": [
    "## 전 종목 코드 구해 오기 (Python)"
   ]
  },
  {
   "cell_type": "code",
   "execution_count": null,
   "metadata": {},
   "outputs": [],
   "source": [
    "# 전종목 시가총액 구하기 (https://yobro.tistory.com/142)"
   ]
  },
  {
   "cell_type": "code",
   "execution_count": null,
   "metadata": {
    "scrolled": false
   },
   "outputs": [],
   "source": [
    "today = datetime.today().strftime(\"%Y%m%d\")\n",
    "df_kospi = stock.get_market_cap_by_ticker(today, market='KOSPI')\n",
    "df_kosdaq = stock.get_market_cap_by_ticker(today, market='KOSDAQ')\n",
    "code_data = pd.concat([df_kospi, df_kosdaq], axis = 0)\n",
    "code_data['기업명'] = [stock.get_market_ticker_name(ticker) for ticker in code_data.index]\n",
    "code_data = code_data[code_data.거래량 > 0] # 거재정지 종목 제외\n",
    "code_data = code_data[['기업명', '종가', '시가총액']]\n",
    "code_data.index = 'A' + code_data.index\n",
    "code_data.index.name = '종목코드'"
   ]
  },
  {
   "cell_type": "markdown",
   "metadata": {},
   "source": [
    "## 시총 하위 20%"
   ]
  },
  {
   "cell_type": "code",
   "execution_count": null,
   "metadata": {},
   "outputs": [],
   "source": [
    "def get_cap_range(value_df, ratio=[0.8, 1.0]):   \n",
    "    temp_df = value_df\n",
    "    temp_df['시가총액'] = pd.to_numeric(temp_df['시가총액'])\n",
    "    temp_df = temp_df.sort_values(by='시가총액', ascending=False)\n",
    "    temp_df['시가총액비율'] = temp_df['시가총액'].rank(ascending=False) / temp_df.shape[0]\n",
    "    sorted_cap_value = temp_df[(temp_df['시가총액비율'] > min(ratio)) & (temp_df['시가총액비율'] <= max(ratio))]\n",
    "    return sorted_cap_value  "
   ]
  },
  {
   "cell_type": "code",
   "execution_count": null,
   "metadata": {},
   "outputs": [],
   "source": [
    "code_data_filter = get_cap_range(code_data, ratio=[0.80, 1.0])\n",
    "code_data_filter = code_data_filter[['기업명']]"
   ]
  },
  {
   "cell_type": "code",
   "execution_count": null,
   "metadata": {},
   "outputs": [],
   "source": [
    "code_data_filter.shape[0]"
   ]
  },
  {
   "cell_type": "markdown",
   "metadata": {},
   "source": [
    "## fnguide 데이터 수집하기"
   ]
  },
  {
   "cell_type": "code",
   "execution_count": null,
   "metadata": {
    "scrolled": true
   },
   "outputs": [],
   "source": [
    "# [코드 3.27/29/31] 모든 종목에 대해서 재무제표, 재무비율, 투자지표 데이터 가져오기 (CH3. 데이터 수집하기.ipynb)\n",
    "total_value = pd.DataFrame()\n",
    "for num, code in enumerate(code_data_filter.index):\n",
    "    if num % 10 == 0:\n",
    "        print(code, num+1, \"/\", code_data_filter.shape[0])\n",
    "    try:\n",
    "        time.sleep(1)        \n",
    "        try:\n",
    "            cap = pq.make_cap_dataframe(code)\n",
    "            fs_df = pq.make_fs_dataframe(code)\n",
    "            fhd_df = pq.make_fhd_dataframe(code)\n",
    "        except requests.exceptions.Timeout:\n",
    "            time.sleep(60)\n",
    "            cap = pq.make_cap_dataframe(code)\n",
    "            fs_df = pq.make_fs_dataframe(code)\n",
    "            fhd_df = pq.make_fhd_dataframe(code)\n",
    "        except ValueError:\n",
    "            continue\n",
    "        except KeyError:\n",
    "            continue\n",
    "        except UnboundLocalError:\n",
    "            continue\n",
    "\n",
    "        value = pd.merge(cap, fs_df, how='outer', right_index=True, left_index=True)\n",
    "        value = pd.merge(value, fhd_df, how='outer', right_index=True, left_index=True)\n",
    "        value['1/PSR'] = float(value['매출액'][0]) / float(value['시가총액'][0])\n",
    "        value['1/PER'] = float(value['순이익'][0]) / float(value['시가총액'][0])\n",
    "        value['1/PBR'] = float(value['자본'][0]) / float(value['시가총액'][0])\n",
    "        value['1/PCR'] = float(value['영업현금흐름'][0]) / float(value['시가총액'][0])\n",
    "        value = pd.merge(code_data_filter.loc[[code]], value, how='outer', right_index=True, left_index=True)\n",
    "        if num == 0 :\n",
    "            total_value = value\n",
    "        else:\n",
    "            total_value = pd.concat([total_value, value])\n",
    "            \n",
    "        if num + 1 == code_data_filter.shape[0]:\n",
    "            print(\"Analysis Done\")\n",
    "\n",
    "    except ValueError:\n",
    "        continue\n",
    "    except KeyError:\n",
    "        continue\n",
    "    except UnboundLocalError:\n",
    "        continue\n"
   ]
  },
  {
   "cell_type": "code",
   "execution_count": null,
   "metadata": {},
   "outputs": [],
   "source": [
    "total_value['적정가'] = round((total_value['BPS'].astype('float')*(1+total_value['ROE3년']*0.01-0.05*((100+total_value['부채비율3년'])/100)**0.5)**10).astype(float), -1)"
   ]
  },
  {
   "cell_type": "code",
   "execution_count": null,
   "metadata": {
    "scrolled": true
   },
   "outputs": [],
   "source": [
    "total_value.to_excel(r'data\\total_value_{}.xlsx'.format(today))\n",
    "total_value.shape[0]"
   ]
  },
  {
   "cell_type": "markdown",
   "metadata": {},
   "source": [
    "## super value 전략 구현하기"
   ]
  },
  {
   "cell_type": "code",
   "execution_count": null,
   "metadata": {},
   "outputs": [],
   "source": [
    "fs_path = r'data\\total_value_{}.xlsx'.format(today)\n",
    "value_df = pd.read_excel(fs_path)\n",
    "value_df = value_df.set_index('종목코드')\n",
    "value_list = ['1/PSR','1/PER','1/PBR','1/PCR']\n",
    "value_combo = pq.value_combo(value_df, value_list, 50)"
   ]
  },
  {
   "cell_type": "code",
   "execution_count": null,
   "metadata": {},
   "outputs": [],
   "source": [
    "value_combo.to_excel(r'data\\value_combo_{}.xlsx'.format(today))"
   ]
  },
  {
   "cell_type": "code",
   "execution_count": null,
   "metadata": {},
   "outputs": [],
   "source": [
    "value_combo"
   ]
  },
  {
   "cell_type": "code",
   "execution_count": null,
   "metadata": {},
   "outputs": [],
   "source": []
  }
 ],
 "metadata": {
  "kernelspec": {
   "display_name": "Python 3",
   "language": "python",
   "name": "python3"
  },
  "language_info": {
   "codemirror_mode": {
    "name": "ipython",
    "version": 3
   },
   "file_extension": ".py",
   "mimetype": "text/x-python",
   "name": "python",
   "nbconvert_exporter": "python",
   "pygments_lexer": "ipython3",
   "version": "3.7.1"
  },
  "varInspector": {
   "cols": {
    "lenName": 16,
    "lenType": 16,
    "lenVar": 40
   },
   "kernels_config": {
    "python": {
     "delete_cmd_postfix": "",
     "delete_cmd_prefix": "del ",
     "library": "var_list.py",
     "varRefreshCmd": "print(var_dic_list())"
    },
    "r": {
     "delete_cmd_postfix": ") ",
     "delete_cmd_prefix": "rm(",
     "library": "var_list.r",
     "varRefreshCmd": "cat(var_dic_list()) "
    }
   },
   "types_to_exclude": [
    "module",
    "function",
    "builtin_function_or_method",
    "instance",
    "_Feature"
   ],
   "window_display": false
  }
 },
 "nbformat": 4,
 "nbformat_minor": 2
}
